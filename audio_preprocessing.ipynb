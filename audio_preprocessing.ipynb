{
 "cells": [
  {
   "cell_type": "code",
   "execution_count": 1,
   "id": "f16f5c71",
   "metadata": {},
   "outputs": [],
   "source": [
    "import numpy as np\n",
    "import os"
   ]
  },
  {
   "cell_type": "code",
   "execution_count": null,
   "id": "1c6d0670",
   "metadata": {},
   "outputs": [],
   "source": [
    "# Padding and trimming\n",
    "import librosa\n",
    "import soundfile as sf\n",
    "\n",
    "clips = [c for c in os.listdir('music_data')]\n",
    "for filename in clips:\n",
    "    y, sr = librosa.load('music_data/' + filename, sr=44100)\n",
    "    if len(y) > 441000: # Trimming\n",
    "        y = y[-441000:]\n",
    "    if len(y) < 441000: # Padding\n",
    "        padded_y = np.zeros(441000)\n",
    "        padded_y[:len(y)] = y\n",
    "        y = padded_y\n",
    "    sf.write('dataset/musiccaps-audio-trimmed/' + filename, y, sr, 'PCM_24')"
   ]
  },
  {
   "cell_type": "code",
   "execution_count": 4,
   "id": "b78e706c",
   "metadata": {},
   "outputs": [],
   "source": [
    "# Resampling from 44.1kHz to 16kHz\n",
    "for filename in os.listdir('dataset/musiccaps-audio-trimmed'):\n",
    "    y, sr = librosa.load('dataset/musiccaps-audio-trimmed/' + filename, sr=44100)\n",
    "    y_16k = librosa.resample(y, orig_sr=sr, target_sr=16000)\n",
    "    sf.write('dataset/musiccaps-audio-trimmed-16k/' + filename, y_16k, 16000, 'PCM_24')"
   ]
  },
  {
   "cell_type": "code",
   "execution_count": null,
   "id": "a5cfaa43",
   "metadata": {},
   "outputs": [],
   "source": []
  }
 ],
 "metadata": {
  "kernelspec": {
   "display_name": "Python 3 (ipykernel)",
   "language": "python",
   "name": "python3"
  },
  "language_info": {
   "codemirror_mode": {
    "name": "ipython",
    "version": 3
   },
   "file_extension": ".py",
   "mimetype": "text/x-python",
   "name": "python",
   "nbconvert_exporter": "python",
   "pygments_lexer": "ipython3",
   "version": "3.7.12"
  }
 },
 "nbformat": 4,
 "nbformat_minor": 5
}
